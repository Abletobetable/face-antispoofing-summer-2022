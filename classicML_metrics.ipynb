{
  "nbformat": 4,
  "nbformat_minor": 0,
  "metadata": {
    "colab": {
      "name": "classicML_metrics.ipynb",
      "provenance": []
    },
    "kernelspec": {
      "name": "python3",
      "display_name": "Python 3"
    },
    "language_info": {
      "name": "python"
    }
  },
  "cells": [
    {
      "cell_type": "markdown",
      "source": [
        "### Imports and Preprocessing"
      ],
      "metadata": {
        "id": "vwA7bCw4LHaI"
      }
    },
    {
      "cell_type": "code",
      "execution_count": 8,
      "metadata": {
        "id": "sDBtHpLeJ8KR"
      },
      "outputs": [],
      "source": [
        "import os\n",
        "import sys\n",
        "import numpy as np\n",
        "import pandas as pd\n",
        "\n",
        "from sklearn.metrics import classification_report\n",
        "from sklearn.metrics import confusion_matrix\n",
        "\n",
        "from google.colab import files\n",
        "from google.colab import drive\n",
        "from zipfile import ZipFile"
      ]
    },
    {
      "cell_type": "code",
      "source": [
        "drive.mount('/content/gdrive')"
      ],
      "metadata": {
        "colab": {
          "base_uri": "https://localhost:8080/"
        },
        "id": "t8_2osZ9Kv1w",
        "outputId": "4c811adb-2648-426f-8b7c-a14c1fc15a0b"
      },
      "execution_count": 2,
      "outputs": [
        {
          "output_type": "stream",
          "name": "stdout",
          "text": [
            "Mounted at /content/gdrive\n"
          ]
        }
      ]
    },
    {
      "cell_type": "code",
      "source": [
        "FILE_NAME = 'predict_128'\n",
        "\n",
        "with ZipFile(f'/content/gdrive/MyDrive/{FILE_NAME}.zip', 'r') as features_zip:\n",
        "    features_zip.extractall('/content')\n",
        "\n",
        "FILE_NAME = 'predict_256'\n",
        "\n",
        "with ZipFile(f'/content/gdrive/MyDrive/{FILE_NAME}.zip', 'r') as features_zip:\n",
        "    features_zip.extractall('/content')"
      ],
      "metadata": {
        "id": "SMX6dJTlK2Ly"
      },
      "execution_count": 3,
      "outputs": []
    },
    {
      "cell_type": "markdown",
      "source": [
        "## Data 128 "
      ],
      "metadata": {
        "id": "RpXk6JzBLLRf"
      }
    },
    {
      "cell_type": "code",
      "source": [
        "# target labels\n",
        "labels = pd.read_csv('/content/predict_128/test_labels.csv')\n",
        "\n",
        "# predicted labels\n",
        "svm_predict = pd.read_csv('/content/predict_128/svm_predict.csv')\n",
        "forest_predict = pd.read_csv('/content/predict_128/rand_forest_predict.csv')\n",
        "mlp_predict = pd.read_csv('/content/predict_128/mlp_predict.csv')\n",
        "\n",
        "labels.drop(columns='Unnamed: 0', inplace=True)\n",
        "labels.rename(columns={'177': '0'}, inplace=True)\n",
        "svm_predict.drop(columns='Unnamed: 0', inplace=True)\n",
        "forest_predict.drop(columns='Unnamed: 0', inplace=True)\n",
        "mlp_predict.drop(columns='Unnamed: 0', inplace=True)"
      ],
      "metadata": {
        "id": "WWQ0ZfO0K9C7"
      },
      "execution_count": 15,
      "outputs": []
    },
    {
      "cell_type": "markdown",
      "source": [
        "classification report"
      ],
      "metadata": {
        "id": "uAYVIHAmQVLA"
      }
    },
    {
      "cell_type": "code",
      "source": [
        "# write prints in .txt file\n",
        "logg_path = 'classification_report_128.txt'\n",
        "with open(logg_path, 'w+') as file:\n",
        "    pass\n",
        "try:\n",
        "    # open file to write in\n",
        "    sys.stdout = open(logg_path, 'w')\n",
        "\n",
        "    print('Data_128:')\n",
        "    print()\n",
        "    print('SVM report:')\n",
        "    print()\n",
        "    print(classification_report(labels, svm_predict))\n",
        "    print('\\n')\n",
        "    print('Random Forest report:')\n",
        "    print()\n",
        "    print(classification_report(labels, forest_predict))\n",
        "    print('\\n')\n",
        "    print('MLP report:')\n",
        "    print()\n",
        "    print(classification_report(labels, mlp_predict))\n",
        "    print('\\n')\n",
        "\n",
        "finally:\n",
        "    sys.stdout.close()  \n",
        "    sys.stdout = sys.__stdout__"
      ],
      "metadata": {
        "id": "aOVkD1gKQYDv"
      },
      "execution_count": 16,
      "outputs": []
    },
    {
      "cell_type": "markdown",
      "source": [
        "confusion matrix for live and spoof"
      ],
      "metadata": {
        "id": "wJjAKpTe96mM"
      }
    },
    {
      "cell_type": "code",
      "source": [
        "svm_mat = confusion_matrix(labels, svm_predict)\n",
        "forest_mat = confusion_matrix(labels, forest_predict)\n",
        "mlp_mat = confusion_matrix(labels, mlp_predict)\n",
        "\n",
        "# write prints in .txt file\n",
        "logg_path = 'confusion_matrix_128.txt'\n",
        "with open(logg_path, 'w+') as file:\n",
        "    pass\n",
        "try:\n",
        "    # open file to write in\n",
        "    sys.stdout = open(logg_path, 'w')\n",
        "\n",
        "    print('Data_128:')\n",
        "    print()\n",
        "    print('SVM:')\n",
        "    print()\n",
        "    print(svm_mat)\n",
        "    print('\\n')\n",
        "    print('Random Forest:')\n",
        "    print()\n",
        "    print(forest_mat)\n",
        "    print('\\n')\n",
        "    print('MLP:')\n",
        "    print()\n",
        "    print(mlp_mat)\n",
        "    print('\\n')\n",
        "\n",
        "finally:\n",
        "    sys.stdout.close()  \n",
        "    sys.stdout = sys.__stdout__"
      ],
      "metadata": {
        "id": "1z_CDkqH98-z"
      },
      "execution_count": 12,
      "outputs": []
    },
    {
      "cell_type": "markdown",
      "source": [
        "## Data 256"
      ],
      "metadata": {
        "id": "fv2j8dM-LU5f"
      }
    },
    {
      "cell_type": "code",
      "source": [
        "# target labels\n",
        "labels = pd.read_csv('/content/predict_256/test_labels.csv')\n",
        "\n",
        "# predicted labels\n",
        "svm_predict = pd.read_csv('/content/predict_256/svm_predict.csv')\n",
        "forest_predict = pd.read_csv('/content/predict_256/rand_forest_predict.csv')\n",
        "mlp_predict = pd.read_csv('/content/predict_256/mlp_predict.csv')\n",
        "\n",
        "labels.drop(columns='Unnamed: 0', inplace=True)\n",
        "labels.rename(columns={'177': '0'}, inplace=True)\n",
        "svm_predict.drop(columns='Unnamed: 0', inplace=True)\n",
        "forest_predict.drop(columns='Unnamed: 0', inplace=True)\n",
        "mlp_predict.drop(columns='Unnamed: 0', inplace=True)"
      ],
      "metadata": {
        "id": "Xk8VZg4wLX1D"
      },
      "execution_count": 17,
      "outputs": []
    },
    {
      "cell_type": "code",
      "source": [
        "# write prints in .txt file\n",
        "logg_path = 'classification_report_256.txt'\n",
        "with open(logg_path, 'w+') as file:\n",
        "    pass\n",
        "try:\n",
        "    # open file to write in\n",
        "    sys.stdout = open(logg_path, 'w')\n",
        "\n",
        "    print('Data_128:')\n",
        "    print()\n",
        "    print('SVM report:')\n",
        "    print()\n",
        "    print(classification_report(labels, svm_predict))\n",
        "    print('\\n')\n",
        "    print('Random Forest report:')\n",
        "    print()\n",
        "    print(classification_report(labels, forest_predict))\n",
        "    print('\\n')\n",
        "    print('MLP report:')\n",
        "    print()\n",
        "    print(classification_report(labels, mlp_predict))\n",
        "    print('\\n')\n",
        "\n",
        "finally:\n",
        "    sys.stdout.close()  \n",
        "    sys.stdout = sys.__stdout__"
      ],
      "metadata": {
        "id": "5w4GL2T9XiRi"
      },
      "execution_count": 18,
      "outputs": []
    },
    {
      "cell_type": "markdown",
      "source": [
        "confusion matrix "
      ],
      "metadata": {
        "id": "dID2N6dN_K0h"
      }
    },
    {
      "cell_type": "code",
      "source": [
        "svm_mat = confusion_matrix(labels, svm_predict)\n",
        "forest_mat = confusion_matrix(labels, forest_predict)\n",
        "mlp_mat = confusion_matrix(labels, mlp_predict)\n",
        "\n",
        "# write prints in .txt file\n",
        "logg_path = 'confusion_matrix_256.txt'\n",
        "with open(logg_path, 'w+') as file:\n",
        "    pass\n",
        "try:\n",
        "    # open file to write in\n",
        "    sys.stdout = open(logg_path, 'w')\n",
        "\n",
        "    print('Data_256:')\n",
        "    print()\n",
        "    print('SVM:')\n",
        "    print()\n",
        "    print(svm_mat)\n",
        "    print('\\n')\n",
        "    print('Random Forest:')\n",
        "    print()\n",
        "    print(forest_mat)\n",
        "    print('\\n')\n",
        "    print('MLP:')\n",
        "    print()\n",
        "    print(mlp_mat)\n",
        "    print('\\n')\n",
        "\n",
        "finally:\n",
        "    sys.stdout.close()  \n",
        "    sys.stdout = sys.__stdout__"
      ],
      "metadata": {
        "id": "EXYjyYMV_Kcq"
      },
      "execution_count": 14,
      "outputs": []
    }
  ]
}