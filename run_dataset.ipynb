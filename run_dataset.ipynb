{
  "nbformat": 4,
  "nbformat_minor": 0,
  "metadata": {
    "colab": {
      "name": "run_dataset.ipynb",
      "provenance": []
    },
    "kernelspec": {
      "name": "python3",
      "display_name": "Python 3"
    },
    "language_info": {
      "name": "python"
    },
    "gpuClass": "standard"
  },
  "cells": [
    {
      "cell_type": "markdown",
      "source": [
        "### Preparing data"
      ],
      "metadata": {
        "id": "ewTu5fsL3p9s"
      }
    },
    {
      "cell_type": "code",
      "source": [
        "import os\n",
        "import numpy as np\n",
        "\n",
        "from google.colab import files\n",
        "from google.colab import drive\n",
        "from zipfile import ZipFile"
      ],
      "metadata": {
        "id": "LqNUV1GFvJeJ"
      },
      "execution_count": 1,
      "outputs": []
    },
    {
      "cell_type": "code",
      "execution_count": 2,
      "metadata": {
        "colab": {
          "base_uri": "https://localhost:8080/"
        },
        "id": "I2oewADy354y",
        "outputId": "62f17105-8b17-4a4b-fd45-e56fa1aa55b9"
      },
      "outputs": [
        {
          "output_type": "stream",
          "name": "stdout",
          "text": [
            "Cloning into 'face-antispoofing-summer-2022'...\n",
            "remote: Enumerating objects: 29, done.\u001b[K\n",
            "remote: Counting objects: 100% (29/29), done.\u001b[K\n",
            "remote: Compressing objects: 100% (26/26), done.\u001b[K\n",
            "remote: Total 29 (delta 5), reused 0 (delta 0), pack-reused 0\u001b[K\n",
            "Unpacking objects: 100% (29/29), done.\n"
          ]
        }
      ],
      "source": [
        "!git clone https://github.com/Abletobetable/face-antispoofing-summer-2022"
      ]
    },
    {
      "cell_type": "code",
      "source": [
        "cd /content/face-antispoofing-summer-2022"
      ],
      "metadata": {
        "colab": {
          "base_uri": "https://localhost:8080/"
        },
        "id": "8UYTAe8U4HgQ",
        "outputId": "8325affa-8847-4da0-e46f-4b7c66d7d1ff"
      },
      "execution_count": 3,
      "outputs": [
        {
          "output_type": "stream",
          "name": "stdout",
          "text": [
            "/content/face-antispoofing-summer-2022\n"
          ]
        }
      ]
    },
    {
      "cell_type": "code",
      "source": [
        "DATASET_NAME = 'data256'"
      ],
      "metadata": {
        "colab": {
          "base_uri": "https://localhost:8080/",
          "height": 35
        },
        "id": "B4RMy3UC1T_9",
        "outputId": "46b64d8a-0261-4a2c-d73f-39e372cf5114"
      },
      "execution_count": 10,
      "outputs": [
        {
          "output_type": "execute_result",
          "data": {
            "text/plain": [
              "'/content/gdrive/MyDrive/data256.zip'"
            ],
            "application/vnd.google.colaboratory.intrinsic+json": {
              "type": "string"
            }
          },
          "metadata": {},
          "execution_count": 10
        }
      ]
    },
    {
      "cell_type": "code",
      "source": [
        "drive.mount('/content/gdrive')"
      ],
      "metadata": {
        "colab": {
          "base_uri": "https://localhost:8080/"
        },
        "id": "RiDLk4eD4cTi",
        "outputId": "a91e3839-e853-4b58-b45d-846db5a921da"
      },
      "execution_count": 4,
      "outputs": [
        {
          "output_type": "stream",
          "name": "stdout",
          "text": [
            "Mounted at /content/gdrive\n"
          ]
        }
      ]
    },
    {
      "cell_type": "code",
      "source": [
        "with ZipFile(f'/content/gdrive/MyDrive/{DATASET_NAME}.zip', 'r') as dataset_zip:\n",
        "    dataset_zip.extractall('/content')"
      ],
      "metadata": {
        "id": "DfVoE9EG9tTc"
      },
      "execution_count": 5,
      "outputs": []
    },
    {
      "cell_type": "markdown",
      "source": [
        "create text document train_file_list.txt like:\n",
        "\n",
        "/content/ibug_samples/image_003_1.jpg 1    \n",
        "\n",
        "where 0 - live, 1 - spoof"
      ],
      "metadata": {
        "id": "ZcBIeG0E8shU"
      }
    },
    {
      "cell_type": "code",
      "source": [
        "test_list = []\n",
        "for folder in os.listdir(f'/content/{DATASET_NAME}/test'):\n",
        "    if os.path.exists(f'/content/{DATASET_NAME}/test/'+folder+'/live'):\n",
        "        for image in os.listdir(f'/content/{DATASET_NAME}/test/'+folder+'/live'):\n",
        "            test_list.append(f'\\n/content/{DATASET_NAME}/test/'+folder+'/live/'+image+' 0')\n",
        "\n",
        "    if os.path.exists(f'/content/{DATASET_NAME}/test/'+folder+'/spoof'):\n",
        "        for image in os.listdir(f'/content/{DATASET_NAME}/test/'+folder+'/spoof'):\n",
        "            test_list.append(f'\\n/content/{DATASET_NAME}/test/'+folder+'/spoof/'+image+' 1')\n",
        "\n",
        "train_list = []\n",
        "for folder in os.listdir(f'/content/{DATASET_NAME}/train'):\n",
        "    if os.path.exists(f'/content/{DATASET_NAME}/train/'+folder+'/live'):\n",
        "        for image in os.listdir(f'/content/{DATASET_NAME}/train/'+folder+'/live'):\n",
        "            train_list.append(f'\\n/content/{DATASET_NAME}/train/'+folder+'/live/'+image+' 0')\n",
        "\n",
        "    if os.path.exists(f'/content/{DATASET_NAME}/train/'+folder+'/spoof'):\n",
        "        for image in os.listdir(f'/content/{DATASET_NAME}/train/'+folder+'/spoof'):\n",
        "            train_list.append(f'\\n/content/{DATASET_NAME}/train/'+folder+'/spoof/'+image+' 1')\n",
        "\n",
        "# remove simbol '\\n' from first string\n",
        "test_list[0] = test_list[0][1::]\n",
        "train_list[0] = train_list[0][1::]\n",
        "\n",
        "# create files if they dont exists .txt\n",
        "with open(\"/content/face-antispoofing-summer-2022/test_file_list.txt\", \"w+\") as textfile:\n",
        "    for line in test_list:\n",
        "        textfile.write(line)\n",
        "\n",
        "with open(\"/content/face-antispoofing-summer-2022/train_file_list.txt\", \"w+\") as textfile:\n",
        "    for line in train_list:\n",
        "        textfile.write(line)"
      ],
      "metadata": {
        "id": "rMFN80oJ67HJ"
      },
      "execution_count": 11,
      "outputs": []
    },
    {
      "cell_type": "markdown",
      "source": [
        "### lbp features"
      ],
      "metadata": {
        "id": "ugl-r7ltB4uC"
      }
    },
    {
      "cell_type": "code",
      "source": [
        "# in this foulder will save features\n",
        "os.mkdir('/content/face-antispoofing-summer-2022/features')"
      ],
      "metadata": {
        "id": "r_p_PtYdYabz"
      },
      "execution_count": 14,
      "outputs": []
    },
    {
      "cell_type": "code",
      "source": [
        "%%time\n",
        "!python feature_extract.py"
      ],
      "metadata": {
        "colab": {
          "base_uri": "https://localhost:8080/"
        },
        "id": "maDgVJa7CH6V",
        "outputId": "e17da642-b804-4566-f19a-1d8ee89689bb"
      },
      "execution_count": 15,
      "outputs": [
        {
          "output_type": "stream",
          "name": "stdout",
          "text": [
            "CPU times: user 1min 39s, sys: 14.4 s, total: 1min 54s\n",
            "Wall time: 3h 9min 25s\n"
          ]
        }
      ]
    },
    {
      "cell_type": "markdown",
      "source": [
        "Check shapes"
      ],
      "metadata": {
        "id": "kjSkupFs3E8c"
      }
    },
    {
      "cell_type": "code",
      "source": [
        "test_features = np.load('/content/face-antispoofing-summer-2022/features/test_feature.npy', allow_pickle=True)\n",
        "test_features.shape, test_features[0].shape"
      ],
      "metadata": {
        "colab": {
          "base_uri": "https://localhost:8080/"
        },
        "id": "wpoYCupU-MRN",
        "outputId": "28d61fa7-f0a9-44f4-e868-ad80713e72df"
      },
      "execution_count": 16,
      "outputs": [
        {
          "output_type": "execute_result",
          "data": {
            "text/plain": [
              "((49646,), (178,))"
            ]
          },
          "metadata": {},
          "execution_count": 16
        }
      ]
    },
    {
      "cell_type": "code",
      "source": [
        "train_features = np.load('/content/face-antispoofing-summer-2022/features/train_feature.npy', allow_pickle=True)\n",
        "train_features.shape, train_features[0].shape"
      ],
      "metadata": {
        "colab": {
          "base_uri": "https://localhost:8080/"
        },
        "id": "v_TNLvcg_OLI",
        "outputId": "7881a4f0-9fb4-4504-9327-81a7727b6fd0"
      },
      "execution_count": 17,
      "outputs": [
        {
          "output_type": "execute_result",
          "data": {
            "text/plain": [
              "((356690,), (178,))"
            ]
          },
          "metadata": {},
          "execution_count": 17
        }
      ]
    },
    {
      "cell_type": "markdown",
      "source": [
        "save as zip and download features"
      ],
      "metadata": {
        "id": "OnNFarxR3u5c"
      }
    },
    {
      "cell_type": "code",
      "source": [
        "!zip -r /content/face-antispoofing-summer-2022/features.zip /content/face-antispoofing-summer-2022/features"
      ],
      "metadata": {
        "colab": {
          "base_uri": "https://localhost:8080/"
        },
        "id": "jI3s8dD6_ZkR",
        "outputId": "31cd24ed-1cee-4870-eefa-1d3db5a65671"
      },
      "execution_count": 18,
      "outputs": [
        {
          "output_type": "stream",
          "name": "stdout",
          "text": [
            "  adding: content/face-antispoofing-summer-2022/features/ (stored 0%)\n",
            "  adding: content/face-antispoofing-summer-2022/features/test_feature.npy (deflated 47%)\n",
            "  adding: content/face-antispoofing-summer-2022/features/train_feature.npy (deflated 47%)\n"
          ]
        }
      ]
    },
    {
      "cell_type": "code",
      "source": [
        "files.download('/content/face-antispoofing-summer-2022/features.zip')"
      ],
      "metadata": {
        "colab": {
          "base_uri": "https://localhost:8080/",
          "height": 17
        },
        "id": "-_UMuPoYrQz_",
        "outputId": "19930aa1-e35d-4806-fc32-301130f963e5"
      },
      "execution_count": 19,
      "outputs": [
        {
          "output_type": "display_data",
          "data": {
            "text/plain": [
              "<IPython.core.display.Javascript object>"
            ],
            "application/javascript": [
              "\n",
              "    async function download(id, filename, size) {\n",
              "      if (!google.colab.kernel.accessAllowed) {\n",
              "        return;\n",
              "      }\n",
              "      const div = document.createElement('div');\n",
              "      const label = document.createElement('label');\n",
              "      label.textContent = `Downloading \"${filename}\": `;\n",
              "      div.appendChild(label);\n",
              "      const progress = document.createElement('progress');\n",
              "      progress.max = size;\n",
              "      div.appendChild(progress);\n",
              "      document.body.appendChild(div);\n",
              "\n",
              "      const buffers = [];\n",
              "      let downloaded = 0;\n",
              "\n",
              "      const channel = await google.colab.kernel.comms.open(id);\n",
              "      // Send a message to notify the kernel that we're ready.\n",
              "      channel.send({})\n",
              "\n",
              "      for await (const message of channel.messages) {\n",
              "        // Send a message to notify the kernel that we're ready.\n",
              "        channel.send({})\n",
              "        if (message.buffers) {\n",
              "          for (const buffer of message.buffers) {\n",
              "            buffers.push(buffer);\n",
              "            downloaded += buffer.byteLength;\n",
              "            progress.value = downloaded;\n",
              "          }\n",
              "        }\n",
              "      }\n",
              "      const blob = new Blob(buffers, {type: 'application/binary'});\n",
              "      const a = document.createElement('a');\n",
              "      a.href = window.URL.createObjectURL(blob);\n",
              "      a.download = filename;\n",
              "      div.appendChild(a);\n",
              "      a.click();\n",
              "      div.remove();\n",
              "    }\n",
              "  "
            ]
          },
          "metadata": {}
        },
        {
          "output_type": "display_data",
          "data": {
            "text/plain": [
              "<IPython.core.display.Javascript object>"
            ],
            "application/javascript": [
              "download(\"download_bc56b855-1fd1-4aa0-9cc5-058e4429f7a2\", \"features.zip\", 316771327)"
            ]
          },
          "metadata": {}
        }
      ]
    }
  ]
}