{
  "nbformat": 4,
  "nbformat_minor": 0,
  "metadata": {
    "colab": {
      "name": "run_dataset.ipynb",
      "provenance": []
    },
    "kernelspec": {
      "name": "python3",
      "display_name": "Python 3"
    },
    "language_info": {
      "name": "python"
    },
    "gpuClass": "standard"
  },
  "cells": [
    {
      "cell_type": "code",
      "source": [
        "import os\n",
        "import numpy as np\n",
        "import pandas as pd\n",
        "\n",
        "from google.colab import files\n",
        "from google.colab import drive\n",
        "from zipfile import ZipFile"
      ],
      "metadata": {
        "id": "LqNUV1GFvJeJ"
      },
      "execution_count": null,
      "outputs": []
    },
    {
      "cell_type": "code",
      "execution_count": null,
      "metadata": {
        "colab": {
          "base_uri": "https://localhost:8080/"
        },
        "id": "I2oewADy354y",
        "outputId": "2990414b-2c18-4cb2-c672-6d1310ccbbcf"
      },
      "outputs": [
        {
          "output_type": "stream",
          "name": "stdout",
          "text": [
            "Cloning into 'face-antispoofing-summer-2022'...\n",
            "remote: Enumerating objects: 6, done.\u001b[K\n",
            "remote: Counting objects: 100% (6/6), done.\u001b[K\n",
            "remote: Compressing objects: 100% (5/5), done.\u001b[K\n",
            "remote: Total 6 (delta 0), reused 0 (delta 0), pack-reused 0\u001b[K\n",
            "Unpacking objects: 100% (6/6), done.\n"
          ]
        }
      ],
      "source": [
        "!git clone https://github.com/Abletobetable/face-antispoofing-summer-2022"
      ]
    },
    {
      "cell_type": "code",
      "source": [
        "cd /content/face-antispoofing-summer-2022"
      ],
      "metadata": {
        "colab": {
          "base_uri": "https://localhost:8080/"
        },
        "id": "8UYTAe8U4HgQ",
        "outputId": "c448c61a-08df-45d1-a445-cc59c660615e"
      },
      "execution_count": null,
      "outputs": [
        {
          "output_type": "stream",
          "name": "stdout",
          "text": [
            "/content/face-antispoofing-summer-2022\n"
          ]
        }
      ]
    },
    {
      "cell_type": "code",
      "source": [
        "drive.mount('/content/gdrive')"
      ],
      "metadata": {
        "colab": {
          "base_uri": "https://localhost:8080/"
        },
        "id": "RiDLk4eD4cTi",
        "outputId": "8c790a7c-7d0d-48f7-d639-e07b51d4bcb1"
      },
      "execution_count": null,
      "outputs": [
        {
          "output_type": "stream",
          "name": "stdout",
          "text": [
            "Mounted at /content/gdrive\n"
          ]
        }
      ]
    },
    {
      "cell_type": "code",
      "source": [
        "with ZipFile('/content/gdrive/MyDrive/data128.zip', 'r') as dataset_zip:\n",
        "    dataset_zip.extractall('/content')"
      ],
      "metadata": {
        "id": "DfVoE9EG9tTc"
      },
      "execution_count": null,
      "outputs": []
    },
    {
      "cell_type": "markdown",
      "source": [
        "создадим текстовый документ train_file_list.txt вида:\n",
        "\n",
        "/content/ibug_samples/image_003_1.jpg 1    \n",
        "\n",
        "где 0 - live, 1 - spoof"
      ],
      "metadata": {
        "id": "ZcBIeG0E8shU"
      }
    },
    {
      "cell_type": "code",
      "source": [
        "test_list = []\n",
        "for folder in os.listdir('/content/data128/test'):\n",
        "    if os.path.exists('/content/data128/test/'+folder+'/live'):\n",
        "        for image in os.listdir('/content/data128/test/'+folder+'/live'):\n",
        "            test_list.append('\\n/content/data128/test/'+folder+'/live/'+image+' 0')\n",
        "\n",
        "    if os.path.exists('/content/data128/test/'+folder+'/spoof'):\n",
        "        for image in os.listdir('/content/data128/test/'+folder+'/spoof'):\n",
        "            test_list.append('\\n/content/data128/test/'+folder+'/spoof/'+image+' 1')\n",
        "\n",
        "train_list = []\n",
        "for folder in os.listdir('/content/data128/train'):\n",
        "    if os.path.exists('/content/data128/train/'+folder+'/live'):\n",
        "        for image in os.listdir('/content/data128/train/'+folder+'/live'):\n",
        "            train_list.append('\\n/content/data128/train/'+folder+'/live/'+image+' 0')\n",
        "\n",
        "    if os.path.exists('/content/data128/train/'+folder+'/spoof'):\n",
        "        for image in os.listdir('/content/data128/train/'+folder+'/spoof'):\n",
        "            train_list.append('\\n/content/data128/train/'+folder+'/spoof/'+image+' 1')\n",
        "\n",
        "# убрать символ '\\n' у первой строчки\n",
        "test_list[0] = test_list[0][1::]\n",
        "train_list[0] = train_list[0][1::]\n",
        "\n",
        "# создадим файлы .txt\n",
        "with open(\"/content/face-antispoofing-summer-2022/test_file_list.txt\", \"w+\") as textfile:\n",
        "    for line in test_list:\n",
        "        textfile.write(line)\n",
        "\n",
        "with open(\"/content/face-antispoofing-summer-2022/train_file_list.txt\", \"w+\") as textfile:\n",
        "    for line in train_list:\n",
        "        textfile.write(line)"
      ],
      "metadata": {
        "id": "rMFN80oJ67HJ"
      },
      "execution_count": null,
      "outputs": []
    },
    {
      "cell_type": "markdown",
      "source": [
        "### lbp features"
      ],
      "metadata": {
        "id": "ugl-r7ltB4uC"
      }
    },
    {
      "cell_type": "code",
      "source": [
        "# в эту папку будем сохранять features\n",
        "os.mkdir('/content/face-antispoofing-summer-2022/features')"
      ],
      "metadata": {
        "id": "r_p_PtYdYabz"
      },
      "execution_count": null,
      "outputs": []
    },
    {
      "cell_type": "code",
      "source": [
        "%%time\n",
        "!python feature_extract.py"
      ],
      "metadata": {
        "colab": {
          "base_uri": "https://localhost:8080/"
        },
        "id": "maDgVJa7CH6V",
        "outputId": "2d4a0c7d-4224-479d-d6ef-628c9cf35758"
      },
      "execution_count": null,
      "outputs": [
        {
          "output_type": "stream",
          "name": "stdout",
          "text": [
            "CPU times: user 12.4 s, sys: 1.93 s, total: 14.3 s\n",
            "Wall time: 48min 6s\n"
          ]
        }
      ]
    },
    {
      "cell_type": "code",
      "source": [
        "test_features = np.load('/content/face-antispoofing-summer-2022/features/test_feature.npy', allow_pickle=True)\n",
        "test_features.shape, test_features[0].shape"
      ],
      "metadata": {
        "colab": {
          "base_uri": "https://localhost:8080/"
        },
        "id": "wpoYCupU-MRN",
        "outputId": "623416a9-fa13-4185-c10c-3dc26be932dd"
      },
      "execution_count": null,
      "outputs": [
        {
          "output_type": "execute_result",
          "data": {
            "text/plain": [
              "((49646,), (178,))"
            ]
          },
          "metadata": {},
          "execution_count": 16
        }
      ]
    },
    {
      "cell_type": "code",
      "source": [
        "train_features = np.load('/content/face-antispoofing-summer-2022/features/train_feature.npy', allow_pickle=True)\n",
        "train_features.shape, train_features[0].shape"
      ],
      "metadata": {
        "colab": {
          "base_uri": "https://localhost:8080/"
        },
        "id": "v_TNLvcg_OLI",
        "outputId": "ccd23f9b-1316-4bb5-f672-fc7db6e11f53"
      },
      "execution_count": null,
      "outputs": [
        {
          "output_type": "execute_result",
          "data": {
            "text/plain": [
              "((356690,), (178,))"
            ]
          },
          "metadata": {},
          "execution_count": 18
        }
      ]
    },
    {
      "cell_type": "code",
      "source": [
        "!zip -r /content/face-antispoofing-summer-2022/features.zip /content/face-antispoofing-summer-2022/features"
      ],
      "metadata": {
        "colab": {
          "base_uri": "https://localhost:8080/"
        },
        "id": "jI3s8dD6_ZkR",
        "outputId": "943067ac-322e-4207-b6c6-19ff9e53089d"
      },
      "execution_count": null,
      "outputs": [
        {
          "output_type": "stream",
          "name": "stdout",
          "text": [
            "  adding: content/face-antispoofing-summer-2022/features/ (stored 0%)\n",
            "  adding: content/face-antispoofing-summer-2022/features/.ipynb_checkpoints/ (stored 0%)\n",
            "  adding: content/face-antispoofing-summer-2022/features/train_feature.npy (deflated 64%)\n",
            "  adding: content/face-antispoofing-summer-2022/features/test_feature.npy (deflated 65%)\n"
          ]
        }
      ]
    },
    {
      "cell_type": "code",
      "source": [
        "files.download('/content/face-antispoofing-summer-2022/features.zip')"
      ],
      "metadata": {
        "colab": {
          "base_uri": "https://localhost:8080/",
          "height": 34
        },
        "id": "-_UMuPoYrQz_",
        "outputId": "ed8d900a-959b-42ac-8b6d-534bba577fc7"
      },
      "execution_count": null,
      "outputs": [
        {
          "output_type": "display_data",
          "data": {
            "text/plain": [
              "<IPython.core.display.Javascript object>"
            ],
            "application/javascript": [
              "\n",
              "    async function download(id, filename, size) {\n",
              "      if (!google.colab.kernel.accessAllowed) {\n",
              "        return;\n",
              "      }\n",
              "      const div = document.createElement('div');\n",
              "      const label = document.createElement('label');\n",
              "      label.textContent = `Downloading \"${filename}\": `;\n",
              "      div.appendChild(label);\n",
              "      const progress = document.createElement('progress');\n",
              "      progress.max = size;\n",
              "      div.appendChild(progress);\n",
              "      document.body.appendChild(div);\n",
              "\n",
              "      const buffers = [];\n",
              "      let downloaded = 0;\n",
              "\n",
              "      const channel = await google.colab.kernel.comms.open(id);\n",
              "      // Send a message to notify the kernel that we're ready.\n",
              "      channel.send({})\n",
              "\n",
              "      for await (const message of channel.messages) {\n",
              "        // Send a message to notify the kernel that we're ready.\n",
              "        channel.send({})\n",
              "        if (message.buffers) {\n",
              "          for (const buffer of message.buffers) {\n",
              "            buffers.push(buffer);\n",
              "            downloaded += buffer.byteLength;\n",
              "            progress.value = downloaded;\n",
              "          }\n",
              "        }\n",
              "      }\n",
              "      const blob = new Blob(buffers, {type: 'application/binary'});\n",
              "      const a = document.createElement('a');\n",
              "      a.href = window.URL.createObjectURL(blob);\n",
              "      a.download = filename;\n",
              "      div.appendChild(a);\n",
              "      a.click();\n",
              "      div.remove();\n",
              "    }\n",
              "  "
            ]
          },
          "metadata": {}
        },
        {
          "output_type": "display_data",
          "data": {
            "text/plain": [
              "<IPython.core.display.Javascript object>"
            ],
            "application/javascript": [
              "download(\"download_26fc6327-2c2e-4ab2-afd0-a456f22c92b4\", \"features.zip\", 214151162)"
            ]
          },
          "metadata": {}
        }
      ]
    }
  ]
}